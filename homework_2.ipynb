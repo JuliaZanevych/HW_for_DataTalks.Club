{
  "nbformat": 4,
  "nbformat_minor": 0,
  "metadata": {
    "colab": {
      "provenance": [],
      "authorship_tag": "ABX9TyMz3mFF2UpskU7vEnfhiONg",
      "include_colab_link": true
    },
    "kernelspec": {
      "name": "python3",
      "display_name": "Python 3"
    },
    "language_info": {
      "name": "python"
    }
  },
  "cells": [
    {
      "cell_type": "markdown",
      "metadata": {
        "id": "view-in-github",
        "colab_type": "text"
      },
      "source": [
        "<a href=\"https://colab.research.google.com/github/JuliaZanevych/HW_for_DataTalks.Club/blob/main/homework_2.ipynb\" target=\"_parent\"><img src=\"https://colab.research.google.com/assets/colab-badge.svg\" alt=\"Open In Colab\"/></a>"
      ]
    },
    {
      "cell_type": "markdown",
      "source": [
        "# EDA\n",
        "1. Load the data."
      ],
      "metadata": {
        "id": "3aZt_79wfVb6"
      }
    },
    {
      "cell_type": "code",
      "execution_count": 1,
      "metadata": {
        "id": "5R4PtbETe7CJ"
      },
      "outputs": [],
      "source": [
        "import pandas as pd\n",
        "\n",
        "url = \"https://raw.githubusercontent.com/alexeygrigorev/datasets/master/housing.csv\"\n",
        "data = pd.read_csv(url)\n"
      ]
    },
    {
      "cell_type": "markdown",
      "source": [
        "2. Look at the median_house_value variable. Does it have a long tail?"
      ],
      "metadata": {
        "id": "iTD9pleufbnT"
      }
    },
    {
      "cell_type": "code",
      "source": [
        "import matplotlib.pyplot as plt\n",
        "\n",
        "data['median_house_value'].hist(bins=50, edgecolor='k', alpha=0.7)\n",
        "plt.title(\"Distribution of Median House Value\")\n",
        "plt.xlabel(\"Median House Value\")\n",
        "plt.ylabel(\"Frequency\")\n",
        "plt.show()\n"
      ],
      "metadata": {
        "colab": {
          "base_uri": "https://localhost:8080/",
          "height": 472
        },
        "id": "fcNpZI9UfzXB",
        "outputId": "bd527650-2910-4a3e-eb82-e9ad6a6763ca"
      },
      "execution_count": 2,
      "outputs": [
        {
          "output_type": "display_data",
          "data": {
            "text/plain": [
              "<Figure size 640x480 with 1 Axes>"
            ],
            "image/png": "[encoded data removed]"
          },
          "metadata": {}
        }
      ]
    },
    {
      "cell_type": "markdown",
      "source": [
        "# Preparing the dataset"
      ],
      "metadata": {
        "id": "s2w5XXJ0gCTK"
      }
    },
    {
      "cell_type": "markdown",
      "source": [
        "1. Keep only the records where ocean_proximity is either '<1H OCEAN' or 'INLAND':"
      ],
      "metadata": {
        "id": "BWwodsRHgDV_"
      }
    },
    {
      "cell_type": "code",
      "source": [
        "filtered_data = data[data['ocean_proximity'].isin(['<1H OCEAN', 'INLAND'])]\n"
      ],
      "metadata": {
        "id": "5XJpals6gFYg"
      },
      "execution_count": 3,
      "outputs": []
    },
    {
      "cell_type": "markdown",
      "source": [
        "2. Use only the specified columns:"
      ],
      "metadata": {
        "id": "L1szhmNXgIc9"
      }
    },
    {
      "cell_type": "code",
      "source": [
        "selected_columns = [\n",
        "    'latitude',\n",
        "    'longitude',\n",
        "    'housing_median_age',\n",
        "    'total_rooms',\n",
        "    'total_bedrooms',\n",
        "    'population',\n",
        "    'households',\n",
        "    'median_income',\n",
        "    'median_house_value'\n",
        "]\n",
        "\n",
        "final_data = filtered_data[selected_columns]\n"
      ],
      "metadata": {
        "id": "0TPbXUyOgLIR"
      },
      "execution_count": 4,
      "outputs": []
    },
    {
      "cell_type": "markdown",
      "source": [
        "# Question 1\n",
        "\n",
        "There's one feature with missing values. What is it?\n",
        "\n",
        "    total_rooms\n",
        "    total_bedrooms\n",
        "    population\n",
        "    households"
      ],
      "metadata": {
        "id": "JuXZOTkygP3W"
      }
    },
    {
      "cell_type": "code",
      "source": [
        "missing_values = final_data.isnull().sum()\n",
        "feature_with_missing_values = missing_values[missing_values > 0].index[0]\n",
        "print(feature_with_missing_values)\n"
      ],
      "metadata": {
        "colab": {
          "base_uri": "https://localhost:8080/"
        },
        "id": "heRh9R-mgQxH",
        "outputId": "002d6bdd-1201-4865-ab29-858862a05ec3"
      },
      "execution_count": 5,
      "outputs": [
        {
          "output_type": "stream",
          "name": "stdout",
          "text": [
            "total_bedrooms\n"
          ]
        }
      ]
    },
    {
      "cell_type": "markdown",
      "source": [
        "# Question 2\n",
        "\n",
        "What's the median (50% percentile) for variable 'population'?\n",
        "\n",
        "    995\n",
        "    1095\n",
        "    1195\n",
        "    1295\n"
      ],
      "metadata": {
        "id": "Fz3VrHjwgf2I"
      }
    },
    {
      "cell_type": "code",
      "source": [
        "population_median = final_data['population'].median()\n",
        "print(population_median)\n"
      ],
      "metadata": {
        "colab": {
          "base_uri": "https://localhost:8080/"
        },
        "id": "8aqhDNqfgiKg",
        "outputId": "ff4df5c0-678f-440f-a8dc-21857fda2dba"
      },
      "execution_count": 6,
      "outputs": [
        {
          "output_type": "stream",
          "name": "stdout",
          "text": [
            "1195.0\n"
          ]
        }
      ]
    },
    {
      "cell_type": "markdown",
      "source": [
        "# Prepare and split the dataset\n",
        "\n",
        "    Shuffle the dataset (the filtered one you created above), use seed 42.\n",
        "    Split your data in train/val/test sets, with 60%/20%/20% distribution.\n",
        "    Apply the log transformation to the median_house_value variable using the np.log1p() function.\n"
      ],
      "metadata": {
        "id": "hToKV8lIhEi6"
      }
    },
    {
      "cell_type": "markdown",
      "source": [
        "1. Shuffle the dataset"
      ],
      "metadata": {
        "id": "eNPSX6QihKJf"
      }
    },
    {
      "cell_type": "code",
      "source": [
        "shuffled_data = final_data.sample(frac=1, random_state=42)\n"
      ],
      "metadata": {
        "id": "CZLCM15XhH5i"
      },
      "execution_count": 7,
      "outputs": []
    },
    {
      "cell_type": "markdown",
      "source": [
        "2. Split your data into train/val/test sets"
      ],
      "metadata": {
        "id": "piXTSABNhPUX"
      }
    },
    {
      "cell_type": "code",
      "source": [
        "train_size = int(0.6 * len(shuffled_data))\n",
        "val_size = int(0.2 * len(shuffled_data))\n",
        "\n",
        "train_data = shuffled_data[:train_size]\n",
        "val_data = shuffled_data[train_size:train_size+val_size]\n",
        "test_data = shuffled_data[train_size+val_size:]\n"
      ],
      "metadata": {
        "id": "WdNWf-4shP0W"
      },
      "execution_count": 8,
      "outputs": []
    },
    {
      "cell_type": "markdown",
      "source": [
        "3. Apply the log transformation to the median_house_value variable"
      ],
      "metadata": {
        "id": "MkECfGLBhSxl"
      }
    },
    {
      "cell_type": "code",
      "source": [
        "import numpy as np\n",
        "\n",
        "train_data['median_house_value'] = np.log1p(train_data['median_house_value'])\n",
        "val_data['median_house_value'] = np.log1p(val_data['median_house_value'])\n",
        "test_data['median_house_value'] = np.log1p(test_data['median_house_value'])\n"
      ],
      "metadata": {
        "colab": {
          "base_uri": "https://localhost:8080/"
        },
        "id": "bt_EiiPqhUfQ",
        "outputId": "a0bbd03f-8ef4-4c0f-8073-fdfc5e53c583"
      },
      "execution_count": 9,
      "outputs": [
        {
          "output_type": "stream",
          "name": "stderr",
          "text": [
            "<ipython-input-9-5134068a5809>:3: SettingWithCopyWarning: \n",
            "A value is trying to be set on a copy of a slice from a DataFrame.\n",
            "Try using .loc[row_indexer,col_indexer] = value instead\n",
            "\n",
            "See the caveats in the documentation: https://pandas.pydata.org/pandas-docs/stable/user_guide/indexing.html#returning-a-view-versus-a-copy\n",
            "  train_data['median_house_value'] = np.log1p(train_data['median_house_value'])\n",
            "<ipython-input-9-5134068a5809>:4: SettingWithCopyWarning: \n",
            "A value is trying to be set on a copy of a slice from a DataFrame.\n",
            "Try using .loc[row_indexer,col_indexer] = value instead\n",
            "\n",
            "See the caveats in the documentation: https://pandas.pydata.org/pandas-docs/stable/user_guide/indexing.html#returning-a-view-versus-a-copy\n",
            "  val_data['median_house_value'] = np.log1p(val_data['median_house_value'])\n",
            "<ipython-input-9-5134068a5809>:5: SettingWithCopyWarning: \n",
            "A value is trying to be set on a copy of a slice from a DataFrame.\n",
            "Try using .loc[row_indexer,col_indexer] = value instead\n",
            "\n",
            "See the caveats in the documentation: https://pandas.pydata.org/pandas-docs/stable/user_guide/indexing.html#returning-a-view-versus-a-copy\n",
            "  test_data['median_house_value'] = np.log1p(test_data['median_house_value'])\n"
          ]
        }
      ]
    },
    {
      "cell_type": "markdown",
      "source": [
        "# Question 3\n",
        "\n",
        "    We need to deal with missing values for the column from Q1.\n",
        "    We have two options: fill it with 0 or with the mean of this variable.\n",
        "    Try both options. For each, train a linear regression model without regularization using the code from the lessons.\n",
        "    For computing the mean, use the training only!\n",
        "    Use the validation dataset to evaluate the models and compare the RMSE of each option.\n",
        "    Round the RMSE scores to 2 decimal digits using round(score, 2)\n",
        "    Which option gives better RMSE?\n",
        "\n",
        "Options:\n",
        "\n",
        "    With 0\n",
        "    With mean\n",
        "    Both are equally good\n"
      ],
      "metadata": {
        "id": "4awYP9ydhbE5"
      }
    },
    {
      "cell_type": "markdown",
      "source": [
        "Alright, let's walk through the process step by step.\n",
        "\n",
        "    Identify the column with missing values (from Q1, we identified it as total_bedrooms).\n",
        "\n",
        "    Fill the missing values with either 0 or the mean of the column from the training set.\n",
        "\n",
        "    Train a linear regression model for each case.\n",
        "\n",
        "    Evaluate the models on the validation dataset and compare the RMSE."
      ],
      "metadata": {
        "id": "JP4U8q2YhoFP"
      }
    },
    {
      "cell_type": "markdown",
      "source": [
        "## 1. Preparation: Extracting Features and Target"
      ],
      "metadata": {
        "id": "3juNlyd5hp-o"
      }
    },
    {
      "cell_type": "code",
      "source": [
        "def extract_features_and_target(df):\n",
        "    X = df.drop(columns=['median_house_value'])\n",
        "    y = df['median_house_value']\n",
        "    return X, y\n",
        "\n",
        "X_train, y_train = extract_features_and_target(train_data)\n",
        "X_val, y_val = extract_features_and_target(val_data)\n"
      ],
      "metadata": {
        "id": "bzq09hS5hcVQ"
      },
      "execution_count": 10,
      "outputs": []
    },
    {
      "cell_type": "markdown",
      "source": [
        "## 2. Option 1: Filling with 0"
      ],
      "metadata": {
        "id": "E3UfS0lQhufm"
      }
    },
    {
      "cell_type": "code",
      "source": [
        "X_train_0 = X_train.copy()\n",
        "X_val_0 = X_val.copy()\n",
        "\n",
        "X_train_0['total_bedrooms'].fillna(0, inplace=True)\n",
        "X_val_0['total_bedrooms'].fillna(0, inplace=True)\n"
      ],
      "metadata": {
        "id": "vzDLttYnhv75"
      },
      "execution_count": 11,
      "outputs": []
    },
    {
      "cell_type": "markdown",
      "source": [
        "## 3. Option 2: Filling with mean"
      ],
      "metadata": {
        "id": "QOIB2m8yhyAl"
      }
    },
    {
      "cell_type": "code",
      "source": [
        "mean_total_bedrooms = X_train['total_bedrooms'].mean()\n",
        "\n",
        "X_train_mean = X_train.copy()\n",
        "X_val_mean = X_val.copy()\n",
        "\n",
        "X_train_mean['total_bedrooms'].fillna(mean_total_bedrooms, inplace=True)\n",
        "X_val_mean['total_bedrooms'].fillna(mean_total_bedrooms, inplace=True)\n"
      ],
      "metadata": {
        "id": "QTHlTekxhzTH"
      },
      "execution_count": 12,
      "outputs": []
    },
    {
      "cell_type": "markdown",
      "source": [
        "## 4. Training Linear Regression Models"
      ],
      "metadata": {
        "id": "Unmfr7Hxh4QO"
      }
    },
    {
      "cell_type": "code",
      "source": [
        "from sklearn.linear_model import LinearRegression\n",
        "from sklearn.metrics import mean_squared_error\n",
        "\n",
        "# Model for option 1\n",
        "model_0 = LinearRegression()\n",
        "model_0.fit(X_train_0, y_train)\n",
        "y_pred_0 = model_0.predict(X_val_0)\n",
        "rmse_0 = mean_squared_error(y_val, y_pred_0, squared=False)\n",
        "print(f\"RMSE (0 filling): {round(rmse_0, 2)}\")\n",
        "\n",
        "# Model for option 2\n",
        "model_mean = LinearRegression()\n",
        "model_mean.fit(X_train_mean, y_train)\n",
        "y_pred_mean = model_mean.predict(X_val_mean)\n",
        "rmse_mean = mean_squared_error(y_val, y_pred_mean, squared=False)\n",
        "print(f\"RMSE (mean filling): {round(rmse_mean, 2)}\")\n"
      ],
      "metadata": {
        "colab": {
          "base_uri": "https://localhost:8080/"
        },
        "id": "9usPkXRoh41_",
        "outputId": "f045a3e2-1228-4a41-c30b-3db7902d9304"
      },
      "execution_count": 13,
      "outputs": [
        {
          "output_type": "stream",
          "name": "stdout",
          "text": [
            "RMSE (0 filling): 0.34\n",
            "RMSE (mean filling): 0.34\n"
          ]
        }
      ]
    },
    {
      "cell_type": "markdown",
      "source": [
        "# Question 4\n",
        "\n",
        "    Now let's train a regularized linear regression.\n",
        "    For this question, fill the NAs with 0.\n",
        "    Try different values of r from this list: [0, 0.000001, 0.0001, 0.001, 0.01, 0.1, 1, 5, 10].\n",
        "    Use RMSE to evaluate the model on the validation dataset.\n",
        "    Round the RMSE scores to 2 decimal digits.\n",
        "    Which r gives the best RMSE?\n",
        "\n",
        "If there are multiple options, select the smallest r.\n",
        "\n",
        "Options:\n",
        "\n",
        "    0\n",
        "    0.000001\n",
        "    0.001\n",
        "    0.0001\n"
      ],
      "metadata": {
        "id": "TuypJTnribnk"
      }
    },
    {
      "cell_type": "markdown",
      "source": [
        "We'll be using Ridge regression from scikit-learn as it allows us to set a regularization parameter αα which is equivalent to rr in the context of this question.\n",
        "\n",
        "Let's walk through the process:\n",
        "\n",
        "    Fill the NAs with 0 for both training and validation data.\n",
        "    Train Ridge regression models with different values of rr or αα.\n",
        "    Evaluate each model using RMSE on the validation dataset.\n",
        "    Identify the rr that gives the best RMSE."
      ],
      "metadata": {
        "id": "S0RU0rIuiiNv"
      }
    },
    {
      "cell_type": "code",
      "source": [
        "from sklearn.linear_model import Ridge\n",
        "\n",
        "X_train_0 = X_train.copy()\n",
        "X_val_0 = X_val.copy()\n",
        "\n",
        "X_train_0['total_bedrooms'].fillna(0, inplace=True)\n",
        "X_val_0['total_bedrooms'].fillna(0, inplace=True)\n",
        "\n",
        "alphas = [0, 0.000001, 0.0001, 0.001, 0.01, 0.1, 1, 5, 10]\n",
        "rmse_scores = {}\n",
        "\n",
        "for alpha in alphas:\n",
        "    model = Ridge(alpha=alpha)\n",
        "    model.fit(X_train_0, y_train)\n",
        "    y_pred = model.predict(X_val_0)\n",
        "    rmse = mean_squared_error(y_val, y_pred, squared=False)\n",
        "    rmse_scores[alpha] = round(rmse, 2)\n",
        "\n",
        "best_alpha = min(rmse_scores, key=rmse_scores.get)\n",
        "print(f\"Best r (alpha) value is: {best_alpha} with RMSE: {rmse_scores[best_alpha]}\")\n"
      ],
      "metadata": {
        "colab": {
          "base_uri": "https://localhost:8080/"
        },
        "id": "iv0bO4ificVS",
        "outputId": "d3f1be11-5170-4f08-8092-411a94cd24e6"
      },
      "execution_count": 14,
      "outputs": [
        {
          "output_type": "stream",
          "name": "stdout",
          "text": [
            "Best r (alpha) value is: 0 with RMSE: 0.34\n"
          ]
        }
      ]
    },
    {
      "cell_type": "markdown",
      "source": [
        "# Question 5\n",
        "\n",
        "    We used seed 42 for splitting the data. Let's find out how selecting the seed influences our score.\n",
        "    Try different seed values: [0, 1, 2, 3, 4, 5, 6, 7, 8, 9].\n",
        "    For each seed, do the train/validation/test split with 60%/20%/20% distribution.\n",
        "    Fill the missing values with 0 and train a model without regularization.\n",
        "    For each seed, evaluate the model on the validation dataset and collect the RMSE scores.\n",
        "    What's the standard deviation of all the scores? To compute the standard deviation, use np.std.\n",
        "    Round the result to 3 decimal digits (round(std, 3))\n",
        "\n",
        "What's the value of std?\n",
        "\n",
        "    0.5\n",
        "    0.05\n",
        "    0.005\n",
        "    0.0005\n",
        "\n",
        "    Note: Standard deviation shows how different the values are. If it's low, then all values are approximately the same. If it's high, the values are different. If standard deviation of scores is low, then our model is stable.\n"
      ],
      "metadata": {
        "id": "3wOyAInjisQj"
      }
    },
    {
      "cell_type": "markdown",
      "source": [
        "Steps:\n",
        "\n",
        "    Use each seed value to shuffle and split the dataset.\n",
        "    Fill the missing values with 0.\n",
        "    Train a linear regression model without regularization.\n",
        "    Evaluate the model on the validation dataset to obtain RMSE.\n",
        "    Collect all RMSE scores.\n",
        "    Compute the standard deviation of all RMSE scores."
      ],
      "metadata": {
        "id": "5xX-BUTRitEb"
      }
    },
    {
      "cell_type": "code",
      "source": [
        "import numpy as np\n",
        "from sklearn.linear_model import LinearRegression\n",
        "from sklearn.metrics import mean_squared_error\n",
        "\n",
        "# Assuming final_data is your dataframe with filtered records and required columns\n",
        "# Create a list to collect the RMSE for each seed\n",
        "rmse_scores = []\n",
        "\n",
        "# Loop over each seed value\n",
        "for seed in [0, 1, 2, 3, 4, 5, 6, 7, 8, 9]:\n",
        "    # Shuffle the data with the current seed\n",
        "    shuffled_data = final_data.sample(frac=1, random_state=seed)\n",
        "\n",
        "    # Split the data into train/val/test\n",
        "    train_size = int(0.6 * len(shuffled_data))\n",
        "    val_size = int(0.2 * len(shuffled_data))\n",
        "\n",
        "    train_data = shuffled_data.iloc[:train_size]\n",
        "    val_data = shuffled_data.iloc[train_size:train_size+val_size]\n",
        "\n",
        "    # Extract features and target variable for training and validation data\n",
        "    X_train, y_train = train_data.drop(columns=['median_house_value']), train_data['median_house_value']\n",
        "    X_val, y_val = val_data.drop(columns=['median_house_value']), val_data['median_house_value']\n",
        "\n",
        "    # Fill missing values in 'total_bedrooms' column with 0\n",
        "    X_train['total_bedrooms'].fillna(0, inplace=True)\n",
        "    X_val['total_bedrooms'].fillna(0, inplace=True)\n",
        "\n",
        "    # Train a linear regression model\n",
        "    model = LinearRegression().fit(X_train, y_train)\n",
        "\n",
        "    # Predict on validation data and compute RMSE\n",
        "    y_pred = model.predict(X_val)\n",
        "    rmse = mean_squared_error(y_val, y_pred, squared=False)\n",
        "    rmse_scores.append(rmse)\n",
        "\n",
        "# Compute the standard deviation of RMSE scores\n",
        "std_value = np.std(rmse_scores)\n",
        "\n",
        "print(round(std_value, 3))\n",
        "print(rmse_scores)\n",
        "\n"
      ],
      "metadata": {
        "colab": {
          "base_uri": "https://localhost:8080/"
        },
        "id": "i637qJhei0_V",
        "outputId": "cf69965d-48df-4fce-eee7-abbccec6399e"
      },
      "execution_count": 17,
      "outputs": [
        {
          "output_type": "stream",
          "name": "stdout",
          "text": [
            "1336.197\n",
            "[63860.234213162155, 64737.80152590399, 65920.89834381797, 65358.555115388626, 66263.8822340656, 67852.54756435638, 65480.256829654376, 67839.99163549505, 67803.01235127586, 65072.51036332185]\n"
          ]
        }
      ]
    },
    {
      "cell_type": "markdown",
      "source": [
        "# Question 6\n",
        "\n",
        "    Split the dataset like previously, use seed 9.\n",
        "    Combine train and validation datasets.\n",
        "    Fill the missing values with 0 and train a model with r=0.001.\n",
        "    What's the RMSE on the test dataset?\n",
        "\n",
        "Options:\n",
        "\n",
        "    0.13\n",
        "    0.23\n",
        "    0.33\n",
        "    0.43\n"
      ],
      "metadata": {
        "id": "68r9Zfp5kIbH"
      }
    },
    {
      "cell_type": "code",
      "source": [
        "import numpy as np\n",
        "from sklearn.linear_model import Ridge\n",
        "from sklearn.metrics import mean_squared_error\n",
        "\n",
        "# Assuming final_data is your dataframe with filtered records and required columns\n",
        "\n",
        "# Shuffle the data with seed 9\n",
        "shuffled_data = final_data.sample(frac=1, random_state=9)\n",
        "\n",
        "# Split the data into train/val/test\n",
        "train_size = int(0.6 * len(shuffled_data))\n",
        "val_size = int(0.2 * len(shuffled_data))\n",
        "\n",
        "train_data = shuffled_data.iloc[:train_size]\n",
        "val_data = shuffled_data.iloc[train_size:train_size+val_size]\n",
        "test_data = shuffled_data.iloc[train_size+val_size:]\n",
        "\n",
        "# Combine train and validation data\n",
        "train_data = pd.concat([train_data, val_data])\n",
        "\n",
        "# Extract features and target variable for training and testing data\n",
        "X_train, y_train = train_data.drop(columns=['median_house_value']), train_data['median_house_value']\n",
        "X_test, y_test = test_data.drop(columns=['median_house_value']), test_data['median_house_value']\n",
        "\n",
        "# Fill missing values in 'total_bedrooms' column with 0\n",
        "X_train['total_bedrooms'].fillna(0, inplace=True)\n",
        "X_test['total_bedrooms'].fillna(0, inplace=True)\n",
        "\n",
        "# Train a regularized linear regression model with r=0.001\n",
        "model = Ridge(alpha=0.001).fit(X_train, y_train)\n",
        "\n",
        "# Predict on test data and compute RMSE\n",
        "y_pred = model.predict(X_test)\n",
        "rmse = mean_squared_error(y_test, y_pred, squared=False)\n",
        "\n",
        "print(round(rmse, 2))\n"
      ],
      "metadata": {
        "colab": {
          "base_uri": "https://localhost:8080/"
        },
        "id": "Ai9U2fgHkJyl",
        "outputId": "2d8778fe-cf1d-4235-bf16-81be96bc1597"
      },
      "execution_count": 18,
      "outputs": [
        {
          "output_type": "stream",
          "name": "stdout",
          "text": [
            "66703.69\n"
          ]
        }
      ]
    }
  ]
}